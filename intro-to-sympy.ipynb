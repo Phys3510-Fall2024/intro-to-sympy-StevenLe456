{
 "cells": [
  {
   "cell_type": "markdown",
   "id": "9c011f8e-c91f-4ed2-9aac-7cec86e4a071",
   "metadata": {},
   "source": [
    "# Working in SymPy\n",
    "\n",
    "`SymPy` is a package for symbolic manipulation of expressions, equations, and calculus. The [website](https://docs.sympy.org/latest/index.html) for `SymPy` has tutorials explaining how things work. You can also use the `help()` and `dir()` functions to explore the properties of the `SymPy` package.\n",
    "\n",
    "The way it is structured is that the different mathematical objects are defined with capital letters (e.g. `Symbol`, `Function`, `Matrix`) while the functions and utilities are defined with lower-case leading letters (e.g. `simplify`, `dsolve`)."
   ]
  },
  {
   "cell_type": "markdown",
   "id": "f02f4bb2-26fe-46c7-b8fb-4336f4c2576e",
   "metadata": {},
   "source": [
    "### 1. **Basic Operations**\n",
    "\n",
    "- `symbols()`: Define symbolic variables for expressions.\n",
    "- `subs()`: Substitute values or expressions for variables.\n",
    "- `sympify()`: Convert strings or Python objects to SymPy expressions.\n",
    "- `evalf()`: Evaluate expressions to floating-point numbers.\n",
    "- `lambdify()`: Convert symbolic expressions to numerical functions (supports backends like NumPy and SciPy).\n"
   ]
  },
  {
   "cell_type": "markdown",
   "id": "c273a14c-4628-42e5-8431-0cbd58476e53",
   "metadata": {},
   "source": [
    "### 2. **Simplifying Expressions**\n",
    "\n",
    "- `simplify()`: Simplify general expressions (algebraic, trigonometric, etc.).\n",
    "- `expand()`: Expand an expression (e.g., expand a polynomial or product).\n",
    "- `factor()`: Factor expressions (e.g., factor a polynomial).\n",
    "- `collect()`: Collect like terms in an expression.\n",
    "- `apart()`: Partial fraction decomposition of rational expressions.\n",
    "- `cancel()`: Cancel common factors in a rational function.\n",
    "- `trigsimp()`: Simplify trigonometric expressions.\n",
    "- `logcombine()`: Combine logarithmic terms into a single expression.\n",
    "- `powsimp()`: Simplify powers and exponents.\n"
   ]
  },
  {
   "cell_type": "markdown",
   "id": "17af0651-4cea-4dee-8b50-ff48f9118935",
   "metadata": {},
   "source": [
    "### 3. **Calculus**\n",
    "\n",
    "#### 3.1 Derivatives\n",
    "- `diff()`: Compute derivatives of expressions (supports higher-order derivatives).\n",
    "\n",
    "#### 3.2 Integrals\n",
    "- `integrate()`: Compute symbolic integrals (both definite and indefinite).\n",
    "- `integrate(f, (var, a, b))`: Compute definite integrals over an interval.\n",
    "  \n",
    "#### 3.3 Limits\n",
    "- `limit()`: Compute the limit of an expression as a variable approaches a value.\n",
    "\n",
    "#### 3.4 Series\n",
    "- `series()`: Expand a function in a Taylor or Laurent series around a point.\n"
   ]
  },
  {
   "cell_type": "markdown",
   "id": "87d5dd3d-d260-4df4-a02b-0e3e1525ffde",
   "metadata": {},
   "source": [
    "### 4. **Linear Algebra**\n",
    "\n",
    "- `Matrix()`: Define symbolic matrices.\n",
    "- `det()`: Compute the determinant of a matrix.\n",
    "- `inv()`: Compute the inverse of a matrix.\n",
    "- `eigenvals()`: Compute eigenvalues of a matrix.\n",
    "- `eigenvects()`: Compute eigenvectors of a matrix.\n",
    "- `solve_linear_system()`: Solve a system of linear equations.\n",
    "- `transpose()`: Transpose a matrix.\n",
    "- `rref()`: Compute the reduced row echelon form of a matrix.\n"
   ]
  },
  {
   "cell_type": "markdown",
   "id": "fcdad056-2414-42d9-844a-ed5dd00f58ec",
   "metadata": {},
   "source": [
    "### 5. **Differential Equations**\n",
    "\n",
    "- `dsolve()`: Solve ordinary differential equations (ODEs).\n",
    "- `Function()`: Define a function that represents the solution of a differential equation.\n",
    "- `Eq()`: Set up an equation (useful for defining differential equations).\n",
    "- `classify_ode()`: Classify an ODE to determine its solution method.\n",
    "- `checkodesol()`: Check whether a solution satisfies a given differential equation.\n"
   ]
  },
  {
   "cell_type": "markdown",
   "id": "83afdf77-b9ef-49ac-81cb-8808919406cc",
   "metadata": {},
   "source": [
    "### 6. **Solving Equations**\n",
    "\n",
    "- `solve()`: Solve algebraic equations (returns roots or solutions).\n",
    "- `nonlinsolve()`: Solve systems of nonlinear equations.\n",
    "- `linsolve()`: Solve systems of linear equations.\n",
    "- `solvers.solvers.solve()`: A more general solver for symbolic equations.\n",
    "- `solvers.decomp_ineq()`: Decompose inequalities for solving them.\n"
   ]
  },
  {
   "cell_type": "markdown",
   "id": "d553c212-6c9a-4bae-8f59-eac3f40886b5",
   "metadata": {},
   "source": [
    "### 7. **Polynomials**\n",
    "\n",
    "- `Poly()`: Create a polynomial object for more control over polynomials.\n",
    "- `degree()`: Get the degree of a polynomial.\n",
    "- `roots()`: Find the roots of a polynomial.\n",
    "- `gcd()`: Compute the greatest common divisor of polynomials.\n",
    "- `lcm()`: Compute the least common multiple of polynomials.\n"
   ]
  },
  {
   "cell_type": "markdown",
   "id": "29b03144-71d0-437e-88f1-bdc36b948df3",
   "metadata": {},
   "source": [
    "### 8. **Trigonometry**\n",
    "\n",
    "- `sin()`, `cos()`, `tan()`: Basic trigonometric functions.\n",
    "- `asin()`, `acos()`, `atan()`: Inverse trigonometric functions.\n",
    "- `expand_trig()`: Expand trigonometric expressions (e.g., using angle addition formulas).\n",
    "- `trigsimp()`: Simplify trigonometric expressions.\n",
    "- `rewrite()`: Rewrite trigonometric functions in terms of other functions (e.g., rewrite `sin(x)` in terms of exponential functions).\n"
   ]
  },
  {
   "cell_type": "markdown",
   "id": "00b21f75-b3d3-4452-83b2-c9e95ae4a2ca",
   "metadata": {},
   "source": [
    "### Here's an example of how to solve a quadratic equation"
   ]
  },
  {
   "cell_type": "code",
   "execution_count": 1,
   "id": "1292573a-ec37-405d-b771-6148870a5196",
   "metadata": {},
   "outputs": [
    {
     "data": {
      "text/plain": [
       "[(-b - sqrt(-4*a*c + b**2))/(2*a), (-b + sqrt(-4*a*c + b**2))/(2*a)]"
      ]
     },
     "execution_count": 1,
     "metadata": {},
     "output_type": "execute_result"
    }
   ],
   "source": [
    "import sympy as sp\n",
    "\n",
    "# Define the symbolic variables\n",
    "a, b, c, x = sp.symbols('a b c x')\n",
    "\n",
    "# Define the quadratic equation: ax^2 + bx + c = 0\n",
    "quadratic_eq = sp.Eq(a*x**2 + b*x + c, 0)\n",
    "\n",
    "# Solve the quadratic equation for x\n",
    "solutions = sp.solve(quadratic_eq, x)\n",
    "\n",
    "# Display the solutions\n",
    "solutions\n"
   ]
  },
  {
   "cell_type": "markdown",
   "id": "6f130c0d-870b-4e8e-b398-f4a3ea395e30",
   "metadata": {},
   "source": [
    "### Here's an example of how to solve a differential equation"
   ]
  },
  {
   "cell_type": "code",
   "execution_count": 2,
   "id": "1d908ff4-300b-41da-b3a2-e4b466632edb",
   "metadata": {},
   "outputs": [
    {
     "data": {
      "text/latex": [
       "$\\displaystyle y{\\left(x \\right)} = y_{0} e^{- \\frac{b x}{a}} e^{\\frac{b x_{0}}{a}}$"
      ],
      "text/plain": [
       "Eq(y(x), y0*exp(-b*x/a)*exp(b*x0/a))"
      ]
     },
     "execution_count": 2,
     "metadata": {},
     "output_type": "execute_result"
    }
   ],
   "source": [
    "import sympy as sp\n",
    "\n",
    "# Define the symbolic variables and function\n",
    "x, x0, y0, a, b = sp.symbols('x x0 y0 a b')  # Independent variable, constants, initial condition\n",
    "y = sp.Function('y')(x)  # Dependent variable y as a function of x\n",
    "\n",
    "# Define the first-order differential equation: a*y' + b*y = 0\n",
    "diff_eq = sp.Eq(a * y.diff(x) + b * y, 0)\n",
    "\n",
    "# Solve the differential equation\n",
    "general_solution = sp.dsolve(diff_eq, y)\n",
    "\n",
    "# Extract the solution for y(x)\n",
    "solution_y = general_solution.rhs\n",
    "\n",
    "# Apply the initial condition: y(x0) = y0\n",
    "initial_condition = sp.Eq(solution_y.subs(x, x0), y0)\n",
    "\n",
    "# Solve for the constant C1\n",
    "C1_value = sp.solve(initial_condition, sp.symbols('C1'))[0]\n",
    "\n",
    "# Substitute C1 back into the general solution\n",
    "solution_with_ic = general_solution.subs(sp.symbols('C1'), C1_value)\n",
    "\n",
    "# Display the solution with initial conditions\n",
    "solution_with_ic\n"
   ]
  },
  {
   "cell_type": "markdown",
   "id": "3cc4df62-649e-44a5-8162-29d985bff03d",
   "metadata": {},
   "source": [
    "## Assignment (1): Use `SymPy` to test the solutions we derived in class last week. \n",
    "\n",
    "$Q_{tr} = A cos(\\omega_\\gamma t) + B sin(\\omega_\\gamma t)$\n",
    "\n",
    "and \n",
    "\n",
    "$Q_{st} = \\bar{C} cos(\\omega t - \\phi)$\n",
    "\n",
    "where\n",
    "\n",
    "$\\omega_\\gamma = \\omega_0^2 - \\gamma^2$,\n",
    "\n",
    "$\\bar{C} = \\frac{F_0/m}{\\sqrt{(\\omega_0^2-\\omega^2)^2-4\\gamma^2\\omega^2}}$,\n",
    "\n",
    "and\n",
    "\n",
    "$\\phi = \\frac{2\\gamma\\omega}{\\omega_0^2-\\omega^2}$"
   ]
  },
  {
   "cell_type": "code",
   "execution_count": 6,
   "id": "acbdddf9-70cf-43bf-9fd0-0716bac5cefd",
   "metadata": {},
   "outputs": [],
   "source": [
    "a, b, f0, w0, w, t, y, m = sp.symbols('a b f0 w0 w t y m')\n",
    "wy = sp.sqrt(w0 ** 2 - y ** 2)\n",
    "q_tr = a * sp.cos(wy * t) + b * sp.sin(wy * t)\n",
    "phi = (2 * y * w) / w0 ** 2 - w ** 2\n",
    "c = (f0 / m) / sp.sqrt((w0 ** 2 - w ** 2) ** 2 - 4 * y ** 2 * w **2)\n",
    "q_st = c * sp.cos(w * t - phi)"
   ]
  },
  {
   "cell_type": "markdown",
   "id": "7abe929c-4ca7-4690-84b6-216369e0c4a1",
   "metadata": {},
   "source": [
    "## Assignment (2): Create representative plots of $\\bar{C}$ and $\\phi$ \n"
   ]
  },
  {
   "cell_type": "code",
   "execution_count": 7,
   "id": "fa807cb1-d940-4d81-a6a2-f07ccfc31bb0",
   "metadata": {},
   "outputs": [
    {
     "ename": "ValueError",
     "evalue": "Too many free symbols.\nExpected 1 free symbols.\nReceived 5: {f0, w0, w, y, m}",
     "output_type": "error",
     "traceback": [
      "\u001b[0;31m---------------------------------------------------------------------------\u001b[0m",
      "\u001b[0;31mValueError\u001b[0m                                Traceback (most recent call last)",
      "Cell \u001b[0;32mIn[7], line 1\u001b[0m\n\u001b[0;32m----> 1\u001b[0m \u001b[43msp\u001b[49m\u001b[38;5;241;43m.\u001b[39;49m\u001b[43mplot\u001b[49m\u001b[43m(\u001b[49m\u001b[43mc\u001b[49m\u001b[43m,\u001b[49m\u001b[43m \u001b[49m\u001b[43m(\u001b[49m\u001b[43my\u001b[49m\u001b[43m,\u001b[49m\u001b[43m \u001b[49m\u001b[38;5;241;43m-\u001b[39;49m\u001b[38;5;241;43m15\u001b[39;49m\u001b[43m,\u001b[49m\u001b[43m \u001b[49m\u001b[38;5;241;43m15\u001b[39;49m\u001b[43m)\u001b[49m\u001b[43m)\u001b[49m\n",
      "File \u001b[0;32m~/Documents/intro-to-sympy-StevenLe456/.venv/lib/python3.12/site-packages/sympy/plotting/plot.py:398\u001b[0m, in \u001b[0;36mplot\u001b[0;34m(show, *args, **kwargs)\u001b[0m\n\u001b[1;32m    209\u001b[0m \u001b[38;5;250m\u001b[39m\u001b[38;5;124;03m\"\"\"Plots a function of a single variable as a curve.\u001b[39;00m\n\u001b[1;32m    210\u001b[0m \n\u001b[1;32m    211\u001b[0m \u001b[38;5;124;03mParameters\u001b[39;00m\n\u001b[0;32m   (...)\u001b[0m\n\u001b[1;32m    395\u001b[0m \n\u001b[1;32m    396\u001b[0m \u001b[38;5;124;03m\"\"\"\u001b[39;00m\n\u001b[1;32m    397\u001b[0m args \u001b[38;5;241m=\u001b[39m _plot_sympify(args)\n\u001b[0;32m--> 398\u001b[0m plot_expr \u001b[38;5;241m=\u001b[39m \u001b[43m_check_arguments\u001b[49m\u001b[43m(\u001b[49m\u001b[43margs\u001b[49m\u001b[43m,\u001b[49m\u001b[43m \u001b[49m\u001b[38;5;241;43m1\u001b[39;49m\u001b[43m,\u001b[49m\u001b[43m \u001b[49m\u001b[38;5;241;43m1\u001b[39;49m\u001b[43m,\u001b[49m\u001b[43m \u001b[49m\u001b[38;5;241;43m*\u001b[39;49m\u001b[38;5;241;43m*\u001b[39;49m\u001b[43mkwargs\u001b[49m\u001b[43m)\u001b[49m\n\u001b[1;32m    399\u001b[0m params \u001b[38;5;241m=\u001b[39m kwargs\u001b[38;5;241m.\u001b[39mget(\u001b[38;5;124m\"\u001b[39m\u001b[38;5;124mparams\u001b[39m\u001b[38;5;124m\"\u001b[39m, \u001b[38;5;28;01mNone\u001b[39;00m)\n\u001b[1;32m    400\u001b[0m free \u001b[38;5;241m=\u001b[39m \u001b[38;5;28mset\u001b[39m()\n",
      "File \u001b[0;32m~/Documents/intro-to-sympy-StevenLe456/.venv/lib/python3.12/site-packages/sympy/plotting/utils.py:266\u001b[0m, in \u001b[0;36m_check_arguments\u001b[0;34m(args, nexpr, npar, **kwargs)\u001b[0m\n\u001b[1;32m    264\u001b[0m exprs, ranges, label, rendering_kw \u001b[38;5;241m=\u001b[39m _unpack_args(\u001b[38;5;241m*\u001b[39margs)\n\u001b[1;32m    265\u001b[0m free_symbols \u001b[38;5;241m=\u001b[39m \u001b[38;5;28mset\u001b[39m()\u001b[38;5;241m.\u001b[39munion(\u001b[38;5;241m*\u001b[39m[e\u001b[38;5;241m.\u001b[39mfree_symbols \u001b[38;5;28;01mfor\u001b[39;00m e \u001b[38;5;129;01min\u001b[39;00m exprs])\n\u001b[0;32m--> 266\u001b[0m ranges \u001b[38;5;241m=\u001b[39m \u001b[43m_create_ranges\u001b[49m\u001b[43m(\u001b[49m\u001b[43mexprs\u001b[49m\u001b[43m,\u001b[49m\u001b[43m \u001b[49m\u001b[43mranges\u001b[49m\u001b[43m,\u001b[49m\u001b[43m \u001b[49m\u001b[43mnpar\u001b[49m\u001b[43m,\u001b[49m\u001b[43m \u001b[49m\u001b[43mlabel\u001b[49m\u001b[43m,\u001b[49m\u001b[43m \u001b[49m\u001b[43mparams\u001b[49m\u001b[43m)\u001b[49m\n\u001b[1;32m    268\u001b[0m \u001b[38;5;28;01mif\u001b[39;00m nexpr \u001b[38;5;241m>\u001b[39m \u001b[38;5;241m1\u001b[39m:\n\u001b[1;32m    269\u001b[0m     \u001b[38;5;66;03m# in case of plot_parametric or plot3d_parametric_line, there will\u001b[39;00m\n\u001b[1;32m    270\u001b[0m     \u001b[38;5;66;03m# be 2 or 3 expressions defining a curve. Group them together.\u001b[39;00m\n\u001b[1;32m    271\u001b[0m     \u001b[38;5;28;01mif\u001b[39;00m \u001b[38;5;28mlen\u001b[39m(exprs) \u001b[38;5;241m==\u001b[39m nexpr:\n",
      "File \u001b[0;32m~/Documents/intro-to-sympy-StevenLe456/.venv/lib/python3.12/site-packages/sympy/plotting/utils.py:115\u001b[0m, in \u001b[0;36m_create_ranges\u001b[0;34m(exprs, ranges, npar, label, params)\u001b[0m\n\u001b[1;32m    112\u001b[0m     free_symbols \u001b[38;5;241m=\u001b[39m free_symbols\u001b[38;5;241m.\u001b[39mdifference(params\u001b[38;5;241m.\u001b[39mkeys())\n\u001b[1;32m    114\u001b[0m \u001b[38;5;28;01mif\u001b[39;00m \u001b[38;5;28mlen\u001b[39m(free_symbols) \u001b[38;5;241m>\u001b[39m npar:\n\u001b[0;32m--> 115\u001b[0m     \u001b[38;5;28;01mraise\u001b[39;00m \u001b[38;5;167;01mValueError\u001b[39;00m(\n\u001b[1;32m    116\u001b[0m         \u001b[38;5;124m\"\u001b[39m\u001b[38;5;124mToo many free symbols.\u001b[39m\u001b[38;5;130;01m\\n\u001b[39;00m\u001b[38;5;124m\"\u001b[39m\n\u001b[1;32m    117\u001b[0m         \u001b[38;5;241m+\u001b[39m \u001b[38;5;124m\"\u001b[39m\u001b[38;5;124mExpected \u001b[39m\u001b[38;5;132;01m{}\u001b[39;00m\u001b[38;5;124m free symbols.\u001b[39m\u001b[38;5;130;01m\\n\u001b[39;00m\u001b[38;5;124m\"\u001b[39m\u001b[38;5;241m.\u001b[39mformat(npar)\n\u001b[1;32m    118\u001b[0m         \u001b[38;5;241m+\u001b[39m \u001b[38;5;124m\"\u001b[39m\u001b[38;5;124mReceived \u001b[39m\u001b[38;5;132;01m{}\u001b[39;00m\u001b[38;5;124m: \u001b[39m\u001b[38;5;132;01m{}\u001b[39;00m\u001b[38;5;124m\"\u001b[39m\u001b[38;5;241m.\u001b[39mformat(\u001b[38;5;28mlen\u001b[39m(free_symbols), free_symbols)\n\u001b[1;32m    119\u001b[0m     )\n\u001b[1;32m    121\u001b[0m \u001b[38;5;28;01mif\u001b[39;00m \u001b[38;5;28mlen\u001b[39m(ranges) \u001b[38;5;241m>\u001b[39m npar:\n\u001b[1;32m    122\u001b[0m     \u001b[38;5;28;01mraise\u001b[39;00m \u001b[38;5;167;01mValueError\u001b[39;00m(\n\u001b[1;32m    123\u001b[0m         \u001b[38;5;124m\"\u001b[39m\u001b[38;5;124mToo many ranges. Received \u001b[39m\u001b[38;5;132;01m%s\u001b[39;00m\u001b[38;5;124m, expected \u001b[39m\u001b[38;5;132;01m%s\u001b[39;00m\u001b[38;5;124m\"\u001b[39m \u001b[38;5;241m%\u001b[39m (\u001b[38;5;28mlen\u001b[39m(ranges), npar))\n",
      "\u001b[0;31mValueError\u001b[0m: Too many free symbols.\nExpected 1 free symbols.\nReceived 5: {f0, w0, w, y, m}"
     ]
    }
   ],
   "source": [
    "sp.plot(c, (y, -15, 15))"
   ]
  }
 ],
 "metadata": {
  "kernelspec": {
   "display_name": ".venv",
   "language": "python",
   "name": "python3"
  },
  "language_info": {
   "codemirror_mode": {
    "name": "ipython",
    "version": 3
   },
   "file_extension": ".py",
   "mimetype": "text/x-python",
   "name": "python",
   "nbconvert_exporter": "python",
   "pygments_lexer": "ipython3",
   "version": "3.12.3"
  }
 },
 "nbformat": 4,
 "nbformat_minor": 5
}
